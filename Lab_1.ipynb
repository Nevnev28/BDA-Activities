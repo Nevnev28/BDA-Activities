{
  "nbformat": 4,
  "nbformat_minor": 0,
  "metadata": {
    "colab": {
      "provenance": []
    },
    "kernelspec": {
      "name": "python3",
      "display_name": "Python 3"
    },
    "language_info": {
      "name": "python"
    }
  },
  "cells": [
    {
      "cell_type": "code",
      "execution_count": 14,
      "metadata": {
        "colab": {
          "base_uri": "https://localhost:8080/"
        },
        "collapsed": true,
        "id": "uh4BvZrAsE3e",
        "outputId": "46a2aaf7-d44b-4a35-fe87-768f7fd8ab7d"
      },
      "outputs": [
        {
          "output_type": "stream",
          "name": "stdout",
          "text": [
            "\r0% [Working]\r            \rHit:1 http://archive.ubuntu.com/ubuntu jammy InRelease\n",
            "\r0% [Waiting for headers] [Connecting to security.ubuntu.com (185.125.190.83)] [Connected to cloud.r-\r                                                                                                    \rHit:2 http://archive.ubuntu.com/ubuntu jammy-updates InRelease\n",
            "\r0% [Waiting for headers] [Connecting to security.ubuntu.com (185.125.190.83)] [Waiting for headers] \r                                                                                                    \rHit:3 http://archive.ubuntu.com/ubuntu jammy-backports InRelease\n",
            "\r0% [Connecting to security.ubuntu.com (185.125.190.83)] [Waiting for headers] [Connected to r2u.stat\r                                                                                                    \rHit:4 https://cloud.r-project.org/bin/linux/ubuntu jammy-cran40/ InRelease\n",
            "\r0% [Connecting to security.ubuntu.com (185.125.190.83)] [Connected to r2u.stat.illinois.edu (192.17.\r                                                                                                    \rHit:5 https://developer.download.nvidia.com/compute/cuda/repos/ubuntu2204/x86_64  InRelease\n",
            "\r0% [Connecting to security.ubuntu.com (185.125.190.83)] [Connected to r2u.stat.illinois.edu (192.17.\r                                                                                                    \rHit:6 http://security.ubuntu.com/ubuntu jammy-security InRelease\n",
            "Hit:7 https://r2u.stat.illinois.edu/ubuntu jammy InRelease\n",
            "Hit:8 https://ppa.launchpadcontent.net/deadsnakes/ppa/ubuntu jammy InRelease\n",
            "Hit:9 https://ppa.launchpadcontent.net/graphics-drivers/ppa/ubuntu jammy InRelease\n",
            "Hit:10 https://ppa.launchpadcontent.net/ubuntugis/ppa/ubuntu jammy InRelease\n",
            "Reading package lists... Done\n",
            "W: Skipping acquire of configured file 'main/source/Sources' as repository 'https://r2u.stat.illinois.edu/ubuntu jammy InRelease' does not seem to provide it (sources.list entry misspelt?)\n",
            "Reading package lists... Done\n",
            "Building dependency tree... Done\n",
            "Reading state information... Done\n",
            "openjdk-8-jdk is already the newest version (8u442-b06~us1-0ubuntu1~22.04).\n",
            "0 upgraded, 0 newly installed, 0 to remove and 31 not upgraded.\n",
            "Requirement already satisfied: pyspark in /usr/local/lib/python3.11/dist-packages (3.5.4)\n",
            "Requirement already satisfied: py4j==0.10.9.7 in /usr/local/lib/python3.11/dist-packages (from pyspark) (0.10.9.7)\n"
          ]
        }
      ],
      "source": [
        "!apt-get update\n",
        "!apt-get install openjdk-8-jdk -y\n",
        "!pip install pyspark"
      ]
    },
    {
      "cell_type": "code",
      "source": [
        "from pyspark.sql import SparkSession\n",
        "\n",
        "spark = SparkSession.builder.master(\"local[*]\").appName(\"RDD_Pipeline\").getOrCreate()\n",
        "sc = spark.sparkContext\n",
        "\n",
        "print(\"Spark Session Created Successfully!\")\n"
      ],
      "metadata": {
        "colab": {
          "base_uri": "https://localhost:8080/"
        },
        "collapsed": true,
        "id": "D8yR2e9QtaXM",
        "outputId": "29020dd7-0fcf-4c74-d9c0-99c3c5049f8f"
      },
      "execution_count": 1,
      "outputs": [
        {
          "output_type": "stream",
          "name": "stdout",
          "text": [
            "Spark Session Created Successfully!\n"
          ]
        }
      ]
    },
    {
      "cell_type": "code",
      "source": [
        "data = [(\"Alice\", 25), (\"Bob\", 30), (\"Charlie\", 35), (\"David\", 40)]\n",
        "rdd = sc.parallelize(data)"
      ],
      "metadata": {
        "id": "zizxtoF-u-Q6"
      },
      "execution_count": 3,
      "outputs": []
    },
    {
      "cell_type": "code",
      "source": [
        "# 1. Map - Convert names to uppercase\n",
        "rdd_transformed = rdd.map(lambda x: (x[0].upper(), x[1]))\n",
        "\n",
        "# 2. Filter - Keep only people older than 28\n",
        "rdd_transformed = rdd_transformed.filter(lambda x: x[1] > 28)\n",
        "\n",
        "# 3. MapValues - Add 5 years to each age\n",
        "rdd_transformed = rdd_transformed.mapValues(lambda x: x + 5)\n",
        "\n",
        "# 4. SortBy - Sort by age in descending order\n",
        "rdd_transformed = rdd_transformed.sortBy(lambda x: x[1], ascending=False)\n",
        "\n",
        "# 5. ReduceByKey - Example transformation (grouping names)\n",
        "rdd_grouped = rdd_transformed.map(lambda x: (x[0][0], x[1])).reduceByKey(lambda a, b: a + b)\n"
      ],
      "metadata": {
        "collapsed": true,
        "id": "m_DVEs_Ota7J"
      },
      "execution_count": 4,
      "outputs": []
    },
    {
      "cell_type": "code",
      "source": [
        "print(\"Final RDD Data:\")\n",
        "print(rdd_grouped.collect())  # Action: collect()"
      ],
      "metadata": {
        "colab": {
          "base_uri": "https://localhost:8080/"
        },
        "id": "fDRJBCGGtfVD",
        "outputId": "52851019-5945-4362-9ab2-141b632d5fcd"
      },
      "execution_count": 5,
      "outputs": [
        {
          "output_type": "stream",
          "name": "stdout",
          "text": [
            "Final RDD Data:\n",
            "[('D', 45), ('C', 40), ('B', 35)]\n"
          ]
        }
      ]
    }
  ]
}